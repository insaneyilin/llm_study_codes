{
 "cells": [
  {
   "cell_type": "markdown",
   "id": "5a2a25b2-43a5-4a3f-8b01-5a25ff03db3f",
   "metadata": {},
   "source": [
    "# 注意力机制中缩放因子(sqrt(d))的作用\n",
    "\n",
    "在注意力机制中，查询向量(q)和键向量(k)的点积(q·k)会随着维度d的增大而变得非常大，这会导致softmax函数的输出出现梯度消失问题。为了解决这个问题，需要对注意力分数进行缩放。\n",
    "\n"
   ]
  },
  {
   "cell_type": "code",
   "execution_count": 1,
   "id": "e7be997e-a534-482c-8df3-27d4f8495f31",
   "metadata": {},
   "outputs": [
    {
     "data": {
      "text/plain": [
       "<torch._C.Generator at 0x105f269d0>"
      ]
     },
     "execution_count": 1,
     "metadata": {},
     "output_type": "execute_result"
    }
   ],
   "source": [
    "import torch\n",
    "import math\n",
    "import torch.nn.functional as F\n",
    "import matplotlib.pyplot as plt\n",
    "from copy import deepcopy\n",
    "\n",
    "# 设置随机种子以保证可重复性\n",
    "torch.manual_seed(0)"
   ]
  },
  {
   "cell_type": "code",
   "execution_count": 2,
   "id": "b50bac11-5ae1-4412-93d0-1a3c99390677",
   "metadata": {},
   "outputs": [
    {
     "name": "stdout",
     "output_type": "stream",
     "text": [
      "\n",
      "=== 数据统计 ===\n",
      "q - 均值: 0.0322, 方差: 1.0567\n",
      "k - 均值: -0.0057, 方差: 1.0215\n",
      "Q - 均值: -0.0028, 方差: 1.0012\n",
      "K - 均值: -0.0047, 方差: 0.9994\n",
      "\n",
      "=== 单个向量注意力分数 ===\n",
      "原始分数: -19.6923 (值过大)\n",
      "除以d: -0.0192 (缩放过度)\n",
      "除以√d: -0.6154 (理想范围)\n",
      "\n",
      "=== 多向量注意力分数统计 ===\n",
      "原始分数 - 均值: 0.1173, 方差: 960.1986\n",
      "除以d - 均值: 0.0001, 方差: 0.0009\n",
      "除以√d - 均值: 0.0037, 方差: 0.9377\n",
      "\n",
      "=== Softmax输出比较 ===\n",
      "原始softmax - 均值: 0.0100, 方差: 0.0067\n",
      "除以d - 均值: 0.0100, 方差: 0.0000 (方差过小)\n",
      "除以√d - 均值: 0.0100, 方差: 0.0001 (理想)\n"
     ]
    }
   ],
   "source": [
    "# =============================================\n",
    "# 第一部分：展示注意力分数缩放的重要性\n",
    "# =============================================\n",
    "\n",
    "def demonstrate_scaling_effect():\n",
    "    \"\"\"展示不同缩放方式对注意力分数的影响\"\"\"\n",
    "    d = 1024  # 特征维度\n",
    "    n = 100   # 序列长度\n",
    "    \n",
    "    # 创建测试数据（服从标准正态分布）\n",
    "    q = torch.randn(1, d)  # 查询向量 (1×d)\n",
    "    k = torch.randn(1, d)  # 键向量 (1×d)\n",
    "    Q = torch.randn(n, d)  # 多查询向量 (n×d)\n",
    "    K = torch.randn(n, d)  # 多键向量 (n×d)\n",
    "    \n",
    "    print(\"\\n=== 数据统计 ===\")\n",
    "    print(f\"q - 均值: {q.mean():.4f}, 方差: {q.var():.4f}\")\n",
    "    print(f\"k - 均值: {k.mean():.4f}, 方差: {k.var():.4f}\")\n",
    "    print(f\"Q - 均值: {Q.mean():.4f}, 方差: {Q.var():.4f}\")\n",
    "    print(f\"K - 均值: {K.mean():.4f}, 方差: {K.var():.4f}\")\n",
    "    \n",
    "    # 计算不同缩放方式的注意力分数\n",
    "    print(\"\\n=== 单个向量注意力分数 ===\")\n",
    "    raw_score = q @ k.t()\n",
    "    score_d = raw_score / d\n",
    "    score_sqrt_d = raw_score / math.sqrt(d)\n",
    "    \n",
    "    print(f\"原始分数: {raw_score.item():.4f} (值过大)\")\n",
    "    print(f\"除以d: {score_d.item():.4f} (缩放过度)\")\n",
    "    print(f\"除以√d: {score_sqrt_d.item():.4f} (理想范围)\")\n",
    "    \n",
    "    # 计算多向量的统计特性\n",
    "    print(\"\\n=== 多向量注意力分数统计 ===\")\n",
    "    scores = q @ K.t()\n",
    "    scores_d = scores / d\n",
    "    scores_sqrt_d = scores / math.sqrt(d)\n",
    "    \n",
    "    print(f\"原始分数 - 均值: {scores.mean():.4f}, 方差: {scores.var():.4f}\")\n",
    "    print(f\"除以d - 均值: {scores_d.mean():.4f}, 方差: {scores_d.var():.4f}\")\n",
    "    print(f\"除以√d - 均值: {scores_sqrt_d.mean():.4f}, 方差: {scores_sqrt_d.var():.4f}\")\n",
    "    \n",
    "    # 比较softmax输出\n",
    "    print(\"\\n=== Softmax输出比较 ===\")\n",
    "    softmax_raw = F.softmax(scores, dim=1)\n",
    "    softmax_d = F.softmax(scores_d, dim=1)\n",
    "    softmax_sqrt_d = F.softmax(scores_sqrt_d, dim=1)\n",
    "    \n",
    "    print(f\"原始softmax - 均值: {softmax_raw.mean():.4f}, 方差: {softmax_raw.var():.4f}\")\n",
    "    print(f\"除以d - 均值: {softmax_d.mean():.4f}, 方差: {softmax_d.var():.4f} (方差过小)\")\n",
    "    print(f\"除以√d - 均值: {softmax_sqrt_d.mean():.4f}, 方差: {softmax_sqrt_d.var():.4f} (理想)\")\n",
    "\n",
    "demonstrate_scaling_effect()"
   ]
  },
  {
   "cell_type": "code",
   "execution_count": 3,
   "id": "5108e909-38ba-40c9-8b63-dd26b215f8cd",
   "metadata": {},
   "outputs": [
    {
     "name": "stdout",
     "output_type": "stream",
     "text": [
      "\n",
      "=== 梯度分析 ===\n",
      "不缩放时的梯度样本: tensor([ 4.5087e-18, -4.3109e-32, -7.8893e-43,  0.0000e+00, -3.9657e-43])\n",
      "除以d的梯度样本: tensor([ 1.0041e-02, -1.0445e-04, -9.9526e-05, -9.4726e-05, -9.9392e-05])\n",
      "除以√d的梯度样本: tensor([ 9.2669e-03, -1.2276e-04, -4.1162e-05, -1.3453e-05, -3.9930e-05])\n"
     ]
    }
   ],
   "source": [
    "# =============================================\n",
    "# 第二部分：梯度分析\n",
    "# =============================================\n",
    "\n",
    "def analyze_gradients():\n",
    "    \"\"\"分析不同缩放方式下的梯度情况\"\"\"\n",
    "    d = 512\n",
    "    n = 100\n",
    "    q = torch.randn(1, d)\n",
    "    K = torch.randn(n, d)\n",
    "    \n",
    "    print(\"\\n=== 梯度分析 ===\")\n",
    "    \n",
    "    # 不缩放（梯度消失）\n",
    "    s = q @ K.t()\n",
    "    s = F.softmax(s, dim=1)\n",
    "    ds = torch.diag(s[0]) - s.t() @ s\n",
    "    print(\"不缩放时的梯度样本:\", ds[0, :5].data)\n",
    "    \n",
    "    # 除以d（梯度存在但可能过小）\n",
    "    s = q @ K.t() / d\n",
    "    s = F.softmax(s, dim=1)\n",
    "    ds = torch.diag(s[0]) - s.t() @ s\n",
    "    print(\"除以d的梯度样本:\", ds[0, :5].data)\n",
    "    \n",
    "    # 除以√d（理想梯度）\n",
    "    s = q @ K.t() / math.sqrt(d)\n",
    "    s = F.softmax(s, dim=1)\n",
    "    ds = torch.diag(s[0]) - s.t() @ s\n",
    "    print(\"除以√d的梯度样本:\", ds[0, :5].data)\n",
    "\n",
    "analyze_gradients()"
   ]
  },
  {
   "cell_type": "code",
   "execution_count": 5,
   "id": "526551b9-63a7-44a1-81b6-dd3096524fce",
   "metadata": {},
   "outputs": [
    {
     "data": {
      "image/png": "[encoded data removed]",
      "text/plain": [
       "<Figure size 1000x500 with 1 Axes>"
      ]
     },
     "metadata": {},
     "output_type": "display_data"
    },
    {
     "name": "stdout",
     "output_type": "stream",
     "text": [
      "\n",
      "=== 训练结果 ===\n",
      "标准正态输入(方差1.0) - 最终损失: 0.4215\n",
      "缩放正态输入(方差大) - 最终损失: 0.4924\n"
     ]
    }
   ],
   "source": [
    "# =============================================\n",
    "# 第三部分：输入分布对训练的影响\n",
    "# =============================================\n",
    "\n",
    "class SimpleNet(torch.nn.Module):\n",
    "    \"\"\"简单的神经网络用于演示输入分布的影响\"\"\"\n",
    "    def __init__(self):\n",
    "        super().__init__()\n",
    "        self.fc1 = torch.nn.Linear(1, 10)\n",
    "        self.fc2 = torch.nn.Linear(10, 1)\n",
    "    \n",
    "    def forward(self, x):\n",
    "        x = torch.tanh(self.fc1(x))\n",
    "        return self.fc2(x)\n",
    "\n",
    "def train_and_compare():\n",
    "    \"\"\"比较不同输入分布下的训练效果\"\"\"\n",
    "    n_samples = 1000\n",
    "    epochs = 1000\n",
    "    \n",
    "    # 生成不同分布的数据\n",
    "    X_normal = torch.randn(n_samples, 1)          # 标准正态分布\n",
    "    X_scaled = torch.randn(n_samples, 1) * 5      # 方差较大的正态分布\n",
    "    y = torch.sin(X_normal * 3.14)                # 目标函数\n",
    "    \n",
    "    # 创建模型副本\n",
    "    model_normal = SimpleNet()\n",
    "    model_scaled = deepcopy(model_normal)\n",
    "    \n",
    "    # 训练配置\n",
    "    criterion = torch.nn.MSELoss()\n",
    "    optimizer_normal = torch.optim.SGD(model_normal.parameters(), lr=0.01)\n",
    "    optimizer_scaled = torch.optim.SGD(model_scaled.parameters(), lr=0.01)\n",
    "    \n",
    "    # 训练函数\n",
    "    def train(model, optimizer, X):\n",
    "        losses = []\n",
    "        for _ in range(epochs):\n",
    "            optimizer.zero_grad()\n",
    "            outputs = model(X)\n",
    "            loss = criterion(outputs, y)\n",
    "            loss.backward()\n",
    "            optimizer.step()\n",
    "            losses.append(loss.item())\n",
    "        return losses\n",
    "    \n",
    "    # 训练模型\n",
    "    losses_normal = train(model_normal, optimizer_normal, X_normal)\n",
    "    losses_scaled = train(model_scaled, optimizer_scaled, X_scaled)\n",
    "    \n",
    "    # 绘制训练曲线\n",
    "    plt.figure(figsize=(10, 5))\n",
    "    plt.plot(losses_normal, label='Normal Distribution')\n",
    "    plt.plot(losses_scaled, label='Normal Distribution var = 25')\n",
    "    plt.xlabel('steps')\n",
    "    plt.ylabel('Loss')\n",
    "    plt.title('Training Loss Comparison')\n",
    "    plt.legend()\n",
    "    plt.yscale('log')  # 使用对数刻度以更好地显示差异\n",
    "    plt.show()\n",
    "    \n",
    "    print(\"\\n=== 训练结果 ===\")\n",
    "    # 方差为1的输入分布数据，拟合的loss更低\n",
    "    print(f\"标准正态输入(方差1.0) - 最终损失: {losses_normal[-1]:.4f}\")\n",
    "    print(f\"缩放正态输入(方差大) - 最终损失: {losses_scaled[-1]:.4f}\")\n",
    "\n",
    "train_and_compare()"
   ]
  },
  {
   "cell_type": "code",
   "execution_count": null,
   "id": "40378fa2-117f-4817-bbb3-e84cb7b44c72",
   "metadata": {},
   "outputs": [],
   "source": []
  }
 ],
 "metadata": {
  "kernelspec": {
   "display_name": "Python 3 (ipykernel)",
   "language": "python",
   "name": "python3"
  },
  "language_info": {
   "codemirror_mode": {
    "name": "ipython",
    "version": 3
   },
   "file_extension": ".py",
   "mimetype": "text/x-python",
   "name": "python",
   "nbconvert_exporter": "python",
   "pygments_lexer": "ipython3",
   "version": "3.10.12"
  }
 },
 "nbformat": 4,
 "nbformat_minor": 5
}
