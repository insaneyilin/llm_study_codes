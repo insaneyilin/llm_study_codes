{
 "cells": [
  {
   "cell_type": "markdown",
   "id": "e938f9a5-b5a8-400c-a725-7df04079634c",
   "metadata": {},
   "source": [
    "# Beam Search\n",
    "\n",
    "Beam Search是一种启发式搜索算法，在每一步保留最有可能的beam_size个候选序列，而不是像贪婪搜索那样只保留一个最优解。它在计算资源和结果质量之间取得了平衡。\n",
    "\n",
    "关键特点\n",
    "- 路径扩展：每一步每个候选序列会扩展出多个可能的后续token\n",
    "- 路径选择：只保留分数最高的beam_size个路径\n",
    "- 概率处理：使用对数概率求和来避免数值下溢"
   ]
  },
  {
   "cell_type": "code",
   "execution_count": 2,
   "id": "4910684d-5dec-4877-8215-74545c4e11d6",
   "metadata": {},
   "outputs": [
    {
     "name": "stderr",
     "output_type": "stream",
     "text": [
      "Xet Storage is enabled for this repo, but the 'hf_xet' package is not installed. Falling back to regular HTTP download. For better performance, install the package with: `pip install huggingface_hub[hf_xet]` or `pip install hf_xet`\n"
     ]
    },
    {
     "data": {
      "application/vnd.jupyter.widget-view+json": {
       "model_id": "119ef239602b469fb26ad03ce569e34f",
       "version_major": 2,
       "version_minor": 0
      },
      "text/plain": [
       "model.safetensors:   0%|          | 0.00/548M [00:00<?, ?B/s]"
      ]
     },
     "metadata": {},
     "output_type": "display_data"
    },
    {
     "data": {
      "application/vnd.jupyter.widget-view+json": {
       "model_id": "c11e7f65b28c4d8eb2d370c8c8985100",
       "version_major": 2,
       "version_minor": 0
      },
      "text/plain": [
       "generation_config.json:   0%|          | 0.00/124 [00:00<?, ?B/s]"
      ]
     },
     "metadata": {},
     "output_type": "display_data"
    },
    {
     "name": "stdout",
     "output_type": "stream",
     "text": [
      "tensor([[7454, 2402,  257,  640]])\n"
     ]
    }
   ],
   "source": [
    "import torch\n",
    "import torch.nn.functional as F\n",
    "from transformers import GPT2LMHeadModel, GPT2Tokenizer\n",
    "\n",
    "model_name = \"gpt2\"\n",
    "model = GPT2LMHeadModel.from_pretrained(model_name)\n",
    "tokenizer = GPT2Tokenizer.from_pretrained(model_name, clean_up_tokenization_spaces=True)\n",
    "\n",
    "text = \"Once upon a time\"\n",
    "input_ids = tokenizer.encode(text, return_tensors=\"pt\")\n",
    "print(input_ids)"
   ]
  },
  {
   "cell_type": "code",
   "execution_count": 5,
   "id": "b75304fc-6231-4ae7-b720-b9b528a396da",
   "metadata": {},
   "outputs": [],
   "source": [
    "max_length = 8\n",
    "beam_width = 3\n",
    "\n",
    "# 初始化beam\n",
    "beams = [(input_ids, 0.0)]  # (token序列, 累计对数概率)\n",
    "\n",
    "completed_beams = []\n",
    "# Beam Search主循环\n",
    "for i in range(max_length):\n",
    "    new_beams = []\n",
    "\n",
    "    # 对每个候选序列扩展\n",
    "    for beam_input_ids, beam_score in beams:\n",
    "        # 获取下一个token的logits\n",
    "        outputs = model(beam_input_ids)\n",
    "        # outputs.logits shape: [bs, seq_len, vocab_size]\n",
    "        next_token_logits = outputs.logits[:, -1, :]\n",
    "\n",
    "        # 强制EOS token概率提高(模拟提前终止)\n",
    "        if i > 4:\n",
    "            next_token_logits[:, tokenizer.eos_token_id] = 10\n",
    "\n",
    "        # 计算对数概率\n",
    "        # Beam Search 目标是找到联合概率最大的一条路径, 可以取log转化为求和\n",
    "        next_token_scores = F.log_softmax(next_token_logits, dim=-1)\n",
    "\n",
    "        # 取top-k候选\n",
    "        top_k_scores, top_k_tokens = torch.topk(next_token_scores, beam_width, dim=-1)\n",
    "\n",
    "        # 扩展新路径\n",
    "        for i in range(beam_width):\n",
    "            next_token = top_k_tokens[0, i].unsqueeze(0).unsqueeze(0)\n",
    "            next_score = top_k_scores[0, i].item()\n",
    "            new_input_ids = torch.cat([beam_input_ids, next_token], dim=-1)\n",
    "            # 对数概率直接相加\n",
    "            new_score = beam_score + next_score\n",
    "            new_beams.append((new_input_ids, new_score))\n",
    "\n",
    "    # 处理EOS token\n",
    "    remaining_beams = []\n",
    "    for beam_input_ids, beam_score in new_beams:\n",
    "        if beam_input_ids[0, -1].item() == tokenizer.eos_token_id:\n",
    "            completed_beams.append((beam_input_ids, beam_score))\n",
    "        else:\n",
    "            remaining_beams.append((beam_input_ids, beam_score))\n",
    "\n",
    "    # 选择得分最高的beam_width个路径\n",
    "    beams = sorted(remaining_beams, key=lambda x: x[1], reverse=True)[:beam_width]\n",
    "\n",
    "    # 终止条件检查\n",
    "    if len(completed_beams) == beam_width:\n",
    "        break"
   ]
  },
  {
   "cell_type": "code",
   "execution_count": null,
   "id": "7ad92cef-2b70-420b-958d-6389450f7461",
   "metadata": {},
   "outputs": [],
   "source": []
  }
 ],
 "metadata": {
  "kernelspec": {
   "display_name": "Python 3 (ipykernel)",
   "language": "python",
   "name": "python3"
  },
  "language_info": {
   "codemirror_mode": {
    "name": "ipython",
    "version": 3
   },
   "file_extension": ".py",
   "mimetype": "text/x-python",
   "name": "python",
   "nbconvert_exporter": "python",
   "pygments_lexer": "ipython3",
   "version": "3.10.12"
  }
 },
 "nbformat": 4,
 "nbformat_minor": 5
}
