{
 "cells": [
  {
   "cell_type": "markdown",
   "id": "9f73d1e2-2dce-47d2-849e-e5585d07710b",
   "metadata": {},
   "source": [
    "# Cross Entropy\n",
    "\n",
    "设事件 $X$ 发生的概率为 $P(X)$，从直觉出发，概率越小，事件发生的“惊喜”程度越大，惊喜程度可以用 $\\frac{1}{P(x)}$ 衡量。\n",
    "\n",
    "取对数，则惊喜程度可以定义为：\n",
    "\n",
    "$$\n",
    "\\log(\\frac{1}{P(x)}) = -\\log(P(x))\n",
    "$$\n",
    "\n",
    "确定性事件（概率为1）的惊喜度为 0；对于不同独立事件，上式定义的惊喜度可以增加。\n",
    "\n",
    "信息熵：真实概率分布下，惊喜程度的期望。\n",
    "\n",
    "$$\n",
    "H(P) = -\\int_{x} P(x) \\log(P(x)) \\ dx\n",
    "$$\n",
    "\n",
    "交叉熵：考虑真实概率分布 $P$ 和预测概率分布 $Q$，预测事件的惊喜程度在真实概率分布下的期望即为交叉熵：\n",
    "\n",
    "$$\n",
    "H(P, Q) = -\\int_{x} P(x) \\log(Q(x)) \\ dx\n",
    "$$\n",
    "\n",
    "KL 散度，交叉熵 - 真实概率分布信息熵：\n",
    "\n",
    "$$\n",
    "KL(P, Q) = H(P, Q) - H(P) = -\\int_{x} P(x) \\log(\\frac{P(x)}{Q(x)}) \\ dx\n",
    "$$\n"
   ]
  },
  {
   "cell_type": "code",
   "execution_count": 1,
   "id": "61c90012-48a0-4374-a0b7-ff384773f1c5",
   "metadata": {},
   "outputs": [
    {
     "data": {
      "image/png": "[encoded data removed]",
      "text/plain": [
       "<Figure size 640x480 with 1 Axes>"
      ]
     },
     "metadata": {},
     "output_type": "display_data"
    }
   ],
   "source": [
    "import matplotlib.pyplot as plt\n",
    "import torch\n",
    "\n",
    "x = torch.arange(0, 100) / 100.0  # probabiliy [0, 1]\n",
    "plt.plot(x.tolist(), (-x.log()).tolist(), '-g', label=\"-log(x)\")\n",
    "plt.xlabel('x')\n",
    "plt.ylabel('-log(x)')  # “surpriseness”\n",
    "plt.show()"
   ]
  },
  {
   "cell_type": "code",
   "execution_count": 2,
   "id": "a473f365-313f-4a52-83e6-552a9383cf07",
   "metadata": {},
   "outputs": [
    {
     "name": "stdout",
     "output_type": "stream",
     "text": [
      "tensor([0.2408, 0.6414, 0.1204])\n",
      "tensor(1.0026)\n"
     ]
    }
   ],
   "source": [
    "# 计算两个离散概率分布的交叉熵\n",
    "p = torch.tensor([0.2, 0.7, 0.1])  # 真实概率分布\n",
    "q = torch.tensor([0.3, 0.4, 0.3])  # 预测概率分布\n",
    "ce = -p * q.log()\n",
    "print(ce)\n",
    "print(ce.sum())"
   ]
  },
  {
   "cell_type": "code",
   "execution_count": 3,
   "id": "0980701c-594f-4832-9cad-5aea2d6d55d2",
   "metadata": {},
   "outputs": [
    {
     "name": "stdout",
     "output_type": "stream",
     "text": [
      "tensor([0.3219, 0.3576, 0.1609])\n",
      "tensor(0.8404)\n"
     ]
    }
   ],
   "source": [
    "# 假设预测分布接近真实分布\n",
    "q = torch.tensor([0.2, 0.6, 0.2])  # 预测概率分布\n",
    "ce = -p * q.log()\n",
    "print(ce)\n",
    "print(ce.sum())\n",
    "# 交叉熵减小了"
   ]
  },
  {
   "cell_type": "code",
   "execution_count": 4,
   "id": "a4fe98d0-7cbf-4a21-a47e-b0b1b5066e1d",
   "metadata": {},
   "outputs": [
    {
     "name": "stdout",
     "output_type": "stream",
     "text": [
      "tensor([0.0000, 0.9163, 0.0000])\n",
      "tensor(0.9163)\n",
      "tensor([1.2040, 0.9163, 1.2040])\n"
     ]
    }
   ],
   "source": [
    "# 考虑真实分布是 one-hot 标签形式\n",
    "p = torch.tensor([0.0, 1.0, 0.0])  # 真实概率分布, one-hot 标签\n",
    "q = torch.tensor([0.3, 0.4, 0.3])  # 预测概率分布\n",
    "ce = -p * q.log()\n",
    "print(ce)\n",
    "print(ce.sum())\n",
    "print(-q.log())\n",
    "# 可以看到，直接取真实标签在 -log(q) 上对应的值就是交叉熵的值"
   ]
  },
  {
   "cell_type": "code",
   "execution_count": 5,
   "id": "14d11557-8f4d-4f14-98ac-194513f77827",
   "metadata": {},
   "outputs": [
    {
     "name": "stdout",
     "output_type": "stream",
     "text": [
      "tensor(0.9178)\n",
      "tensor(0.9178)\n"
     ]
    }
   ],
   "source": [
    "import torch.nn.functional as F\n",
    "\n",
    "def calculate_ce_loss(logits, labels):\n",
    "    \"\"\"\n",
    "    计算交叉熵损失\n",
    "    logits: (batch_size, num_cls)\n",
    "    labels: (batch_size, )\n",
    "    \"\"\"\n",
    "    # 确保labels是torch.long类型\n",
    "    labels = labels.long()\n",
    "\n",
    "    # 计算负对数似然 (negative log likelihood)\n",
    "    # log_softmax 数值更稳定，直接算 softmax 可能会导致数值溢出\n",
    "    log_probs = F.log_softmax(logits, dim=-1)\n",
    "\n",
    "    # 从 log_probs 中提取真实标签对应的对数概率\n",
    "    nll_loss = -log_probs.gather(dim=-1, index=labels.unsqueeze(-1)).squeeze(-1)\n",
    "    # 等价于:\n",
    "    # batch_size = labels.shape[0]\n",
    "    # idx = torch.arange(0, batch_size)\n",
    "    # nll_loss = -log_probs[idx, labels]\n",
    "\n",
    "    # 对整个 batch 取平均\n",
    "    return nll_loss.mean()\n",
    "\n",
    "logits = torch.tensor([[0.2, 0.8], [0.6, 0.4]])\n",
    "labels = torch.tensor([0, 1])\n",
    "\n",
    "ce = calculate_ce_loss(logits, labels)\n",
    "print(ce)\n",
    "ce_loss_torch = torch.nn.CrossEntropyLoss()(logits, labels)\n",
    "print(ce_loss_torch)"
   ]
  },
  {
   "cell_type": "markdown",
   "id": "8ca7b0e2-31fe-4e35-a50b-a72de429c962",
   "metadata": {},
   "source": [
    "# Softmax\n",
    "\n",
    "把 logits 向量归一化到概率分布向量\n",
    "\n",
    "$$\n",
    "Softmax(x_i) = \\frac{e^{x_i}}{\\sum_{j=1}^{d}e^{x_j}}\n",
    "$$\n",
    "\n",
    "## 减常数 C 避免数值溢出\n",
    "\n",
    "exp() 容易指数爆炸溢出，一般可以先将 logits 向量减去一个常量，比如 logits 中的最大值:\n",
    "\n",
    "$$\n",
    "Softmax(x_i) = \\frac{e^{x_i - C}}{\\sum_{j=1}^{d}e^{x_j - C}}\n",
    "$$\n",
    "\n",
    "## Log Softmax\n",
    "\n",
    "很多时候我们都需要对 logits 计算 log softmax 的值，但注意 log 函数在 0 点会取到 -inf ，导致数据溢出，我们可以直接计算 log softmax 值：\n",
    "\n",
    "$$\n",
    "\\begin{aligned}\n",
    "log(Softmax(x_i)) &= log(\\frac{e^{x_i - C}}{\\sum_{j=1}^{d}e^{x_j - C}}) \\\\\n",
    "&= (x_i - C) - log(\\sum_{j=1}^{d}e^{x_j - C})\n",
    "\\end{aligned}\n",
    "$$\n",
    "\n",
    "此时 $log(\\sum_{j=1}^{d}e^{x_j - C})$ 不会溢出，这种方式计算的 log softmax (log probs) 也不会溢出。\n",
    "\n",
    "我们可以通过 softmax 把 log probs 转回 probs :\n",
    "\n",
    "$$\n",
    "Softmax(x_i) = \\frac{e^{log \\ probs (i)}}{\\sum_{j=1}^{d}e^{log \\ probs (j)}}\n",
    "$$\n"
   ]
  },
  {
   "cell_type": "code",
   "execution_count": 6,
   "id": "bfed8fe4-5f60-4314-b5eb-4330b72c29e6",
   "metadata": {},
   "outputs": [
    {
     "name": "stdout",
     "output_type": "stream",
     "text": [
      "tensor([[0., 0., 1., 0.]])\n",
      "Directly computed log softmax(i.e. lob probs): \n",
      "tensor([[-inf, -inf, 0., -inf]])\n",
      "Log softmax log probs:\n",
      "tensor([[-9990., -9998.,     0., -9996.]])\n",
      "recovered_probs:\n",
      "tensor([[0., 0., 1., 0.]])\n",
      "tensor([[0., 0., 1., 0.]])\n",
      "torch.nn.functional.log_softmax(logits): \n",
      "tensor([[-9990., -9998.,     0., -9996.]])\n"
     ]
    }
   ],
   "source": [
    "def safe_softmax(logits):\n",
    "    # logits shape [batch_size, dim]\n",
    "    logits_max, _ = logits.max(dim=-1)\n",
    "    logits = logits - logits_max.unsqueeze(1) \n",
    "    logits = logits.exp()\n",
    "    logits_sum = logits.sum(-1, keepdim = True)\n",
    "    prob = logits / logits_sum\n",
    "    return prob.abs()\n",
    "\n",
    "\n",
    "def log_softmax(logits, recover_prob=False):\n",
    "    logits_max, _ = logits.max(dim=-1)\n",
    "    safe_logits = logits - logits_max.unsqueeze(1)\n",
    "    exp_logits = safe_logits.exp()\n",
    "    exp_logits_sum = exp_logits.sum(-1, keepdim=True)\n",
    "    log_probs = (logits - logits_max.unsqueeze(1)) - exp_logits_sum.log()\n",
    "\n",
    "    if recover_prob is True:\n",
    "        exp_log_probs = log_probs.exp()\n",
    "        probs = exp_log_probs / exp_log_probs.sum(-1, keepdim=True)\n",
    "        return probs, log_probs\n",
    "\n",
    "    return log_probs\n",
    "\n",
    "logits = torch.tensor([[10, 2, 10000, 4]], dtype=torch.float32)\n",
    "probs = safe_softmax(logits)\n",
    "print(probs)\n",
    "print('Directly computed log softmax(i.e. lob probs): ')\n",
    "print(probs.log())\n",
    "\n",
    "recovered_probs, log_probs = log_softmax(logits, recover_prob=True)\n",
    "print('Log softmax log probs:')\n",
    "print(log_probs)\n",
    "print('recovered_probs:')\n",
    "print(recovered_probs)\n",
    "print(safe_softmax(log_probs))\n",
    "\n",
    "print('torch.nn.functional.log_softmax(logits): ')\n",
    "print(torch.nn.functional.log_softmax(logits, dim=-1))"
   ]
  },
  {
   "cell_type": "markdown",
   "id": "b4858988-e4ec-459b-8707-84f612b460e7",
   "metadata": {},
   "source": [
    "# Perplexity Metric of Language Model\n",
    "\n",
    "语言模型对文本的困惑度（Perplexity），即模型对真实文本的“惊讶程度”，越低表示文本越流畅（公式：`exp(NLL)`，NLL为负对数似然）"
   ]
  },
  {
   "cell_type": "code",
   "execution_count": 7,
   "id": "281c8de7-7e51-4944-ad32-77c01b9a4a5a",
   "metadata": {},
   "outputs": [
    {
     "name": "stdout",
     "output_type": "stream",
     "text": [
      "tensor([[0.6897, 0.9398, 0.0486]]) tensor([0.5594])\n",
      "tensor([[ 20.0000,   3.8652, 997.0000]]) tensor([340.2884])\n",
      "tensor(1.7496)\n",
      "tensor(5.1847e+21)\n"
     ]
    }
   ],
   "source": [
    "def CE_loss(logits, labels):\n",
    "    \"\"\"\n",
    "    计算语言模型 next token prediction 输出的交叉熵损失\n",
    "    logits: (batch_size, seq_len, vocab_size)\n",
    "    labels: (batch_size, seq_len)\n",
    "    返回:\n",
    "    - token级平均损失: (batch_size, seq_len)\n",
    "    - sequence级平均损失: (batch_size,)\n",
    "    \"\"\"\n",
    "    # 计算负对数似然 (negative log likelihood)\n",
    "    log_probs = F.log_softmax(logits, dim=-1)  # 先计算log softmax\n",
    "    nll_loss = -log_probs.gather(dim=-1, index=labels.long().unsqueeze(-1)).squeeze(-1)\n",
    "    \n",
    "    # nll_loss, average token loss, shape (batch_size, seq_len)\n",
    "\n",
    "    # 计算每个sequence的平均损失\n",
    "    seq_loss = nll_loss.mean(dim=-1)  # (batch_size, )\n",
    "\n",
    "    return nll_loss, seq_loss\n",
    "\n",
    "\n",
    "def calculate_perplexity(loss):\n",
    "    \"\"\"\n",
    "    从交叉熵损失计算困惑度\n",
    "    loss: 每个 seq 的交叉熵损失值, (batch_size,)\n",
    "    \"\"\"\n",
    "    # batch 维度取 mean\n",
    "    max_loss = 50  # avoid inf\n",
    "    clipped_loss = torch.clamp(loss, max=max_loss)\n",
    "    return clipped_loss.exp().mean()\n",
    "\n",
    "labels = torch.tensor([[0, 1, 2]], dtype=torch.float32)\n",
    "\n",
    "# logits1 is more accurate\n",
    "logits1 = torch.tensor([[[0.8, 0.1, 0.1],\n",
    "                         [0.3, 0.5, 0.2],\n",
    "                         [-100, 0, 3]]], dtype=torch.float32)\n",
    "\n",
    "logits2 = torch.tensor([[[0.0, 20, 0.1],\n",
    "                         [1.2, 0.5, 4.3],\n",
    "                         [1000, 0, 3]]], dtype=torch.float32)\n",
    "\n",
    "nll_loss1, seq_loss1 = CE_loss(logits1, labels)\n",
    "nll_loss2, seq_loss2 = CE_loss(logits2, labels)\n",
    "print(nll_loss1, seq_loss1)\n",
    "print(nll_loss2, seq_loss2)\n",
    "\n",
    "ppl1 = calculate_perplexity(seq_loss1)\n",
    "ppl2 = calculate_perplexity(seq_loss2)\n",
    "print(ppl1)  # logits1 has lower ppl\n",
    "print(ppl2)"
   ]
  },
  {
   "cell_type": "markdown",
   "id": "e3b10342-218b-4053-b892-706a603ff8c8",
   "metadata": {},
   "source": [
    "# Softmax Cross Entropy 求导\n",
    "\n",
    "对于多分类问题，Softmax函数将模型输出转换为概率分布：\n",
    "\n",
    "$$\n",
    "y_i = \\frac{e^{z_i}}{\\sum_{j=1}^C e^{z_j}} \\quad \\text{其中} \\quad i = 1,2,...,C\n",
    "$$\n",
    "\n",
    "其中：\n",
    "- $C$ 是类别总数\n",
    "- $z_i$ 是第 i 个类别的logit值（softmax层的输入）\n",
    "- $y_i$ 是第 i 个类别的预测概率\n",
    "\n",
    "Softmax的导数分为两种情况 (用复合函数求导法则推一下，h(x) = f(x)/g(x))：\n",
    "\n",
    "1. 当对同一位置求导时（i = j）：\n",
    "\n",
    "$$\n",
    "\\frac{\\partial y_i}{\\partial z_j} = y_i(1 - y_j)\n",
    "$$\n",
    "\n",
    "2. 当对不同位置求导时（i ≠ j）：\n",
    "\n",
    "$$\n",
    "\\frac{\\partial y_i}{\\partial z_j} = -y_i y_j\n",
    "$$\n",
    "\n",
    "矩阵形式表示:\n",
    "\n",
    "$$\n",
    "\\frac{\\partial \\mathbf{y}}{\\partial \\mathbf{z}} = \\text{diag}(\\mathbf{y}) - \\mathbf{y}^T \\mathbf{y}\n",
    "$$\n",
    "\n",
    "\n",
    "交叉熵损失函数定义\n",
    "\n",
    "给定：\n",
    "- 真实标签的one-hot编码 $\\mathbf{p} = [p_1, p_2, ..., p_C]$\n",
    "- 预测概率分布 $\\mathbf{q} = [q_1, q_2, ..., q_C]$\n",
    "\n",
    "交叉熵损失为：\n",
    "\n",
    "$$\n",
    "H(\\mathbf{p}, \\mathbf{q}) = -\\sum_{i=1}^C p_i \\log q_i\n",
    "$$\n",
    "\n",
    "交叉熵对softmax输出的导数\n",
    "\n",
    "$$\n",
    "\\frac{\\partial H}{\\partial q_i} = -\\frac{p_i}{q_i}\n",
    "$$\n",
    "\n",
    "## Softmax + Cross-Entropy 联合求导\n",
    "\n",
    "\n",
    "前向计算路径:\n",
    "\n",
    "$$\n",
    "\\text{logits} \\ (z) \\xrightarrow{\\text{softmax}} \\text{probs} \\ (q) \\xrightarrow{\\text{CE}} \\text{loss} \\ (H)\n",
    "$$\n",
    "\n",
    "反向求导步骤:\n",
    "\n",
    "根据链式法则：\n",
    "$$\n",
    "\\frac{\\partial H}{\\partial z_j} = \\sum_{i=1}^C \\frac{\\partial H}{\\partial q_i} \\cdot \\frac{\\partial q_i}{\\partial z_j}\n",
    "$$\n",
    "\n",
    "其中：\n",
    "- $\\frac{\\partial H}{\\partial q_i} = -\\frac{p_i}{q_i}$ （交叉熵对softmax输出的导数）\n",
    "- $\\frac{\\partial q_i}{\\partial z_j}$ 是softmax对logits的Jacobian矩阵\n",
    "\n",
    "展开计算 \n",
    "\n",
    "将两部分导数代入：\n",
    "$$\n",
    "\\frac{\\partial H}{\\partial z_j} = \\underbrace{\\left(-\\frac{p_j}{q_j}\\right) \\cdot q_j(1-q_j)}_{\\text{当 } i=j} + \\sum_{i \\neq j} \\underbrace{\\left(-\\frac{p_i}{q_i}\\right) \\cdot (-q_i q_j)}_{\\text{当 } i \\neq j}\n",
    "$$\n",
    "\n",
    "化简后：\n",
    "$$\n",
    "= -p_j (1-q_j) + \\sum_{i \\neq j} p_i q_j = q_j - p_j\n",
    "$$\n",
    "\n",
    "即 softmax cross entropy 直接对 logits 求导，得到了非常简单的形式\n",
    "\n",
    "\n",
    "**为什么能直接跳过中间步骤？**\n",
    "\n",
    "1. 数学巧合\n",
    "   交叉熵的梯度 $\\frac{\\partial H}{\\partial q_i} = -\\frac{p_i}{q_i}$ 与 softmax 的 Jacobian 矩阵相乘后，所有中间项完美抵消，最终得到极其简洁的形式 $q_j - p_j$。\n",
    "2. 物理意义\n",
    "   梯度直接反映了预测概率 $q_j$ 与真实标签 $p_j$ 的差异，这与直觉一致：\n",
    "   - 当 $q_j > p_j$（预测过度自信）：梯度为正，需要降低该logit\n",
    "   - 当 $q_j < p_j$（预测不足）：梯度为负，需要增加该logit\n",
    "\n",
    "**工程实现中的注意事项**\n",
    "\n",
    "不要分开实现\n",
    "\n",
    "```python\n",
    "# 错误做法（数值不稳定且低效）\n",
    "q = softmax(z)\n",
    "loss = cross_entropy(q, p)\n",
    "grad = ...  # 手动链式求导\n",
    "```\n",
    "\n",
    "应该直接使用联合函数\n",
    "```python\n",
    "# PyTorch（推荐）\n",
    "loss = F.cross_entropy(z, targets)  # z是logits，targets是类别索引\n",
    "\n",
    "# TensorFlow\n",
    "loss = tf.nn.softmax_cross_entropy_with_logits(labels=p, logits=z)\n",
    "```\n",
    "\n",
    "这些函数内部：\n",
    " - 自动处理softmax的数值稳定性（如减去最大值）\n",
    " - 直接计算联合梯度 $q_j - p_j$，避免中间矩阵运算\n"
   ]
  },
  {
   "cell_type": "code",
   "execution_count": 8,
   "id": "c1cb954b-d8c4-4228-b397-e38bb7d649af",
   "metadata": {},
   "outputs": [
    {
     "name": "stdout",
     "output_type": "stream",
     "text": [
      "True\n"
     ]
    }
   ],
   "source": [
    "# 随机生成logits和标签\n",
    "logits = torch.randn(1, 5, requires_grad=True)  # batch_size=1, num_classes=5\n",
    "labels = torch.tensor([2])  # 第3个类别（从0开始）\n",
    "\n",
    "# 框架自动计算\n",
    "loss = F.cross_entropy(logits, labels)\n",
    "loss.backward()\n",
    "auto_grad = logits.grad.clone()\n",
    "\n",
    "# 手动计算\n",
    "probs = F.softmax(logits, dim=1)\n",
    "target_probs = torch.zeros_like(probs)\n",
    "target_probs[0, labels.item()] = 1\n",
    "manual_grad = probs - target_probs\n",
    "\n",
    "# 比较结果\n",
    "print(torch.allclose(auto_grad, manual_grad))  # 应输出True"
   ]
  },
  {
   "cell_type": "code",
   "execution_count": null,
   "id": "d3b1f329-e89b-4dd5-8376-b9aef2ce56f8",
   "metadata": {},
   "outputs": [],
   "source": []
  }
 ],
 "metadata": {
  "kernelspec": {
   "display_name": "Python 3 (ipykernel)",
   "language": "python",
   "name": "python3"
  },
  "language_info": {
   "codemirror_mode": {
    "name": "ipython",
    "version": 3
   },
   "file_extension": ".py",
   "mimetype": "text/x-python",
   "name": "python",
   "nbconvert_exporter": "python",
   "pygments_lexer": "ipython3",
   "version": "3.10.12"
  }
 },
 "nbformat": 4,
 "nbformat_minor": 5
}
