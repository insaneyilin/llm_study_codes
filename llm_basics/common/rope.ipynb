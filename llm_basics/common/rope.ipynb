{
 "cells": [
  {
   "cell_type": "markdown",
   "id": "33df8b98-fd94-4ca7-82ce-db4b48aa7ea6",
   "metadata": {},
   "source": [
    "# RoPE (旋转位置编码)\n",
    "\n",
    "这篇笔记研究了不同位置编码方法（特别是RoPE及其变体）的衰减特性，主要目的是：\n",
    "\n",
    "1. 分析位置编码如何影响词向量之间的距离关系\n",
    "2. 比较不同位置编码方法（绝对位置编码、RoPE、PI-RoPE和NTK-RoPE）在短长上下文中的表现\n",
    "3. 探索位置编码的平滑衰减特性对模型理解位置关系的影响\n",
    "\n",
    "**位置编码的作用**\n",
    "- 使模型能够区分不同位置的词向量\n",
    "- 保持词之间的距离关系（近的词相关性高，远的词相关性低）\n",
    "\n",
    "**好的位置编码特性**\n",
    "1. **平滑衰减**：距离增加时相关性应平滑下降，而非突变\n",
    "2. **长距离区分能力**：能区分1-10000和1-10000000这样不同量级的距离差异\n",
    "\n",
    "**主要位置编码方法**\n",
    "1. **绝对位置编码**（Transformer使用）\n",
    "2. **旋转位置编码RoPE**（Llama使用）\n",
    "3. **PI-RoPE**（位置插值）\n",
    "4. **NTK-RoPE**（基于NTK理论的方法, ）\n",
    "\n",
    "NTK: 神经切线核（Neural Tangent Kernel，简称NTK）是一种在深度学习领域中被广泛研究的概念，它提供了一种框架来分析和理解神经网络训练过程中的动态行为。NTK是在无限宽度极限下的神经网络中定义的，即当网络的层宽度趋向于无限大时，网络的行为可以通过一个固定的核函数来描述。"
   ]
  },
  {
   "cell_type": "code",
   "execution_count": 6,
   "id": "830ffd9a-7ff1-418e-b34a-03a6c7b04401",
   "metadata": {},
   "outputs": [
    {
     "data": {
      "text/plain": [
       "<torch._C.Generator at 0x103fc6a10>"
      ]
     },
     "execution_count": 6,
     "metadata": {},
     "output_type": "execute_result"
    }
   ],
   "source": [
    "from typing import Tuple, Optional\n",
    "\n",
    "import torch\n",
    "import torch.nn as nn\n",
    "import torch.nn.functional as F\n",
    "import matplotlib.pyplot as plt\n",
    "\n",
    "# 设置随机种子保证可重复性\n",
    "torch.manual_seed(42)"
   ]
  },
  {
   "cell_type": "code",
   "execution_count": 7,
   "id": "53c0d83e-5f5e-4849-a9b9-f67abb3b9245",
   "metadata": {},
   "outputs": [],
   "source": [
    "# 1. 绝对位置编码 (Transformer原版)\n",
    "class PositionalEncoding(nn.Module):\n",
    "    def __init__(self, d_model: int, max_len: int = 5000):\n",
    "        super().__init__()\n",
    "        position = torch.arange(max_len).unsqueeze(1)\n",
    "        div_term = torch.exp(torch.arange(0, d_model, 2) * (-np.log(10000.0) / d_model))\n",
    "        pe = torch.zeros(max_len, d_model)\n",
    "        pe[:, 0::2] = torch.sin(position * div_term)\n",
    "        pe[:, 1::2] = torch.cos(position * div_term)\n",
    "        self.register_buffer('pe', pe)  # [max_len, d_model]\n",
    "\n",
    "    def forward(self, x: torch.Tensor) -> torch.Tensor:\n",
    "        \"\"\"输入x形状: [seq_len, batch_size, d_model]\"\"\"\n",
    "        return x + self.pe[:x.size(0)]\n",
    "\n",
    "# 2. 旋转位置编码 (RoPE)\n",
    "class RotaryEmbedding(nn.Module):\n",
    "    def __init__(self, dim: int, max_position_embeddings: int = 2048, base: float = 10000.0):\n",
    "        super().__init__()\n",
    "        self.dim = dim\n",
    "        self.max_position_embeddings = max_position_embeddings\n",
    "        self.base = base\n",
    "        self._set_cos_sin_cache()\n",
    "\n",
    "    def _set_cos_sin_cache(self):\n",
    "        inv_freq = 1.0 / (self.base ** (torch.arange(0, self.dim, 2).float() / self.dim))\n",
    "        t = torch.arange(self.max_position_embeddings).float()\n",
    "        \n",
    "        freqs = torch.outer(t, inv_freq)\n",
    "        emb = torch.cat((freqs, freqs), dim=-1)\n",
    "        self.register_buffer(\"cos_cached\", emb.cos(), persistent=False)\n",
    "        self.register_buffer(\"sin_cached\", emb.sin(), persistent=False)\n",
    "\n",
    "    def forward(self, x: torch.Tensor, seq_len: int) -> Tuple[torch.Tensor, torch.Tensor]:\n",
    "        return self.cos_cached[:seq_len], self.sin_cached[:seq_len]\n",
    "\n",
    "# 旋转辅助函数\n",
    "def rotate_half(x: torch.Tensor) -> torch.Tensor:\n",
    "    \"\"\"旋转一半的隐藏维度\"\"\"\n",
    "    x1 = x[..., : x.shape[-1] // 2]\n",
    "    x2 = x[..., x.shape[-1] // 2 :]\n",
    "    return torch.cat((-x2, x1), dim=-1)\n",
    "\n",
    "def apply_rotary_pos_emb(\n",
    "    q: torch.Tensor, \n",
    "    k: torch.Tensor, \n",
    "    cos: torch.Tensor, \n",
    "    sin: torch.Tensor\n",
    ") -> Tuple[torch.Tensor, torch.Tensor]:\n",
    "    \"\"\"应用旋转位置编码到查询和键上\"\"\"\n",
    "    cos = cos.unsqueeze(0).unsqueeze(0)  # [1, 1, seq_len, dim]\n",
    "    sin = sin.unsqueeze(0).unsqueeze(0)  # [1, 1, seq_len, dim]\n",
    "    \n",
    "    q_embed = (q * cos) + (rotate_half(q) * sin)\n",
    "    k_embed = (k * cos) + (rotate_half(k) * sin)\n",
    "    return q_embed, k_embed\n",
    "\n",
    "# 计算衰减分数\n",
    "def compute_decay_scores(encoding_type: str, encoder: nn.Module, dim: int, seq_len: int) -> torch.Tensor:\n",
    "    \"\"\"计算位置编码的衰减分数\"\"\"\n",
    "    # 创建测试输入 (模拟注意力查询和键)\n",
    "    q = torch.ones(1, 1, seq_len, dim)\n",
    "    k = torch.ones(1, 1, seq_len, dim)\n",
    "    \n",
    "    if encoding_type == \"absolute\":\n",
    "        # 绝对位置编码直接加到输入上\n",
    "        pe = encoder.pe[:seq_len].unsqueeze(0).unsqueeze(0)  # [1, 1, seq_len, dim]\n",
    "        q_embed = q + pe\n",
    "        k_embed = k + pe\n",
    "    elif encoding_type == \"rope\":\n",
    "        # RoPE需要特殊处理\n",
    "        cos, sin = encoder(q, seq_len)\n",
    "        q_embed, k_embed = apply_rotary_pos_emb(q, k, cos, sin)\n",
    "    \n",
    "    # 计算第一个位置与其他位置的点积\n",
    "    scores = q_embed[0, 0, 0] @ k_embed[0, 0].T\n",
    "    return scores\n",
    "\n",
    "# 可视化对比\n",
    "def plot_comparison(pos_scores: torch.Tensor, rope_scores: torch.Tensor, max_len: int = 2048):\n",
    "    plt.figure(figsize=(12, 6))\n",
    "    plt.plot(pos_scores[:max_len], label=\"Absolute Positional Encoding\", color=\"blue\")\n",
    "    plt.plot(rope_scores[:max_len], label=\"Rotary Positional Encoding (RoPE)\", color=\"red\")\n",
    "    \n",
    "    plt.title(\"Positional Encoding Comparison (First {} Positions)\".format(max_len))\n",
    "    plt.xlabel(\"Relative Position\")\n",
    "    plt.ylabel(\"Dot Product Score\")\n",
    "    plt.legend()\n",
    "    plt.grid(True)\n",
    "    plt.show()"
   ]
  },
  {
   "cell_type": "code",
   "execution_count": 8,
   "id": "61e69246-bb8a-4515-aeaa-7bd88fd3a60d",
   "metadata": {},
   "outputs": [
    {
     "ename": "NameError",
     "evalue": "name 'np' is not defined",
     "output_type": "error",
     "traceback": [
      "\u001b[0;31m---------------------------------------------------------------------------\u001b[0m",
      "\u001b[0;31mNameError\u001b[0m                                 Traceback (most recent call last)",
      "Cell \u001b[0;32mIn[8], line 6\u001b[0m\n\u001b[1;32m      3\u001b[0m seq_len \u001b[38;5;241m=\u001b[39m \u001b[38;5;241m4096\u001b[39m  \u001b[38;5;66;03m# 测试序列长度\u001b[39;00m\n\u001b[1;32m      5\u001b[0m \u001b[38;5;66;03m# 初始化编码器\u001b[39;00m\n\u001b[0;32m----> 6\u001b[0m pos_encoder \u001b[38;5;241m=\u001b[39m \u001b[43mPositionalEncoding\u001b[49m\u001b[43m(\u001b[49m\u001b[43mdim\u001b[49m\u001b[43m,\u001b[49m\u001b[43m \u001b[49m\u001b[43mseq_len\u001b[49m\u001b[43m)\u001b[49m\u001b[38;5;241m.\u001b[39mto(device)\n\u001b[1;32m      7\u001b[0m rope_encoder \u001b[38;5;241m=\u001b[39m RotaryEmbedding(dim, seq_len)\u001b[38;5;241m.\u001b[39mto(device)\n\u001b[1;32m      9\u001b[0m \u001b[38;5;66;03m# 计算衰减分数\u001b[39;00m\n",
      "Cell \u001b[0;32mIn[7], line 6\u001b[0m, in \u001b[0;36mPositionalEncoding.__init__\u001b[0;34m(self, d_model, max_len)\u001b[0m\n\u001b[1;32m      4\u001b[0m \u001b[38;5;28msuper\u001b[39m()\u001b[38;5;241m.\u001b[39m\u001b[38;5;21m__init__\u001b[39m()\n\u001b[1;32m      5\u001b[0m position \u001b[38;5;241m=\u001b[39m torch\u001b[38;5;241m.\u001b[39marange(max_len)\u001b[38;5;241m.\u001b[39munsqueeze(\u001b[38;5;241m1\u001b[39m)\n\u001b[0;32m----> 6\u001b[0m div_term \u001b[38;5;241m=\u001b[39m torch\u001b[38;5;241m.\u001b[39mexp(torch\u001b[38;5;241m.\u001b[39marange(\u001b[38;5;241m0\u001b[39m, d_model, \u001b[38;5;241m2\u001b[39m) \u001b[38;5;241m*\u001b[39m (\u001b[38;5;241m-\u001b[39m\u001b[43mnp\u001b[49m\u001b[38;5;241m.\u001b[39mlog(\u001b[38;5;241m10000.0\u001b[39m) \u001b[38;5;241m/\u001b[39m d_model))\n\u001b[1;32m      7\u001b[0m pe \u001b[38;5;241m=\u001b[39m torch\u001b[38;5;241m.\u001b[39mzeros(max_len, d_model)\n\u001b[1;32m      8\u001b[0m pe[:, \u001b[38;5;241m0\u001b[39m::\u001b[38;5;241m2\u001b[39m] \u001b[38;5;241m=\u001b[39m torch\u001b[38;5;241m.\u001b[39msin(position \u001b[38;5;241m*\u001b[39m div_term)\n",
      "\u001b[0;31mNameError\u001b[0m: name 'np' is not defined"
     ]
    }
   ],
   "source": [
    "device = \"cpu\"\n",
    "dim = 256\n",
    "seq_len = 4096  # 测试序列长度\n",
    "\n",
    "# 初始化编码器\n",
    "pos_encoder = PositionalEncoding(dim, seq_len).to(device)\n",
    "rope_encoder = RotaryEmbedding(dim, seq_len).to(device)\n",
    "\n",
    "# 计算衰减分数\n",
    "pos_scores = compute_decay_scores(\"absolute\", pos_encoder, dim, seq_len)\n",
    "rope_scores = compute_decay_scores(\"rope\", rope_encoder, dim, seq_len)\n",
    "\n",
    "# 绘制对比图\n",
    "plot_comparison(pos_scores, rope_scores, max_len=1024)  # 显示前1024个位置的对比\n",
    "plot_comparison(pos_scores, rope_scores, max_len=seq_len)  # 显示全部位置的对比\n"
   ]
  },
  {
   "cell_type": "code",
   "execution_count": null,
   "id": "1f8734cc-f7f3-4210-8382-5a02641c8bac",
   "metadata": {},
   "outputs": [],
   "source": []
  }
 ],
 "metadata": {
  "kernelspec": {
   "display_name": "Python 3 (ipykernel)",
   "language": "python",
   "name": "python3"
  },
  "language_info": {
   "codemirror_mode": {
    "name": "ipython",
    "version": 3
   },
   "file_extension": ".py",
   "mimetype": "text/x-python",
   "name": "python",
   "nbconvert_exporter": "python",
   "pygments_lexer": "ipython3",
   "version": "3.10.12"
  }
 },
 "nbformat": 4,
 "nbformat_minor": 5
}
