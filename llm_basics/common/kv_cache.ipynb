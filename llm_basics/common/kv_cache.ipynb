{
 "cells": [
  {
   "cell_type": "markdown",
   "id": "5f4273e5-a807-4219-bbc5-2b87ed0f5a7b",
   "metadata": {},
   "source": [
    "# KV-Cache\n",
    "\n",
    "1. **计算效率**：只计算新token的Q，重复使用之前token的K和V\n",
    "2. **内存效率**：缓存K和V避免了重复计算\n",
    "3. **生成过程**：每次只需要处理当前token，但能获得完整序列的上下文信息\n",
    "\n",
    "1. **KV-Cache目的**：优化自回归生成过程的计算效率，避免对已生成token的重复计算\n",
    "2. **实现方式**：缓存每个transformer层的K和V矩阵，在生成新token时只需计算当前token的Q\n",
    "3. **效果对比**：\n",
    "   - 无KV-Cache：每次生成需处理整个序列，计算量随序列长度线性增长\n",
    "   - 有KV-Cache：每次生成只需处理当前token，计算量基本恒定\n"
   ]
  },
  {
   "cell_type": "code",
   "execution_count": 1,
   "id": "c41b521b-2a40-4ad8-861e-6f9b59690bc2",
   "metadata": {},
   "outputs": [
    {
     "name": "stdout",
     "output_type": "stream",
     "text": [
      "\n",
      "Generation第0个时的输入 shape: torch.Size([1, 10])\n",
      "\n",
      "Generation第1个时的输入 shape: torch.Size([1, 11])\n",
      "\n",
      "Generation第2个时的输入 shape: torch.Size([1, 12])\n",
      "\n",
      "Generation第3个时的输入 shape: torch.Size([1, 13])\n"
     ]
    }
   ],
   "source": [
    "import torch\n",
    "import torch.nn.functional as F\n",
    "from transformers import LlamaModel, LlamaConfig, LlamaForCausalLM\n",
    "import time\n",
    "\n",
    "# 配置一个小型LLaMA模型\n",
    "config = LlamaConfig(\n",
    "    vocab_size=100,\n",
    "    hidden_size=256,\n",
    "    intermediate_size=512,\n",
    "    num_hidden_layers=2,\n",
    "    num_attention_heads=4,\n",
    "    num_key_value_heads=4,\n",
    ")\n",
    "model = LlamaForCausalLM(config)  # 加载模型\n",
    "\n",
    "# 创建输入数据 (batch_size=1, seq_len=10)\n",
    "X = torch.randint(0, 100, (1, 10))  # 直接使用随机整数代替tokenizer\n",
    "\n",
    "# 自回归生成过程\n",
    "idx = {'input_ids': X}\n",
    "for i in range(4):\n",
    "    print(f\"\\nGeneration第{i}个时的输入 shape: {idx['input_ids'].shape}\")\n",
    "    output = model(**idx)\n",
    "    logits = output['logits'][:, -1, :]  # 只取最后一个token的logits\n",
    "    idx_next = torch.argmax(logits, dim=1)[0]  # 贪心搜索\n",
    "    \n",
    "    # 将新生成的token拼接到输入中\n",
    "    idx['input_ids'] = torch.cat((idx['input_ids'], idx_next.unsqueeze(0).unsqueeze(1)), dim=-1)\n",
    "    time.sleep(1)  # 模拟实际生成延迟"
   ]
  },
  {
   "cell_type": "code",
   "execution_count": 2,
   "id": "1aeea948-7a48-453f-89e0-620f638b1d47",
   "metadata": {},
   "outputs": [
    {
     "name": "stdout",
     "output_type": "stream",
     "text": [
      "torch.Size([1, 10])\n",
      "\n",
      "Generation 0 step input_shape: torch.Size([1, 10])\n",
      "input_Q: torch.Size([1, 10, 128])\n",
      "input_K: torch.Size([1, 10, 128])\n",
      "input_V: torch.Size([1, 10, 128])\n",
      "cache_K: torch.Size([1, 10, 128])\n",
      "cache_V: torch.Size([1, 10, 128])\n",
      "next_token预测: tensor([48])\n",
      "\n",
      "Generation 1 step input_shape: torch.Size([1, 1])\n",
      "input_Q: torch.Size([1, 1, 128])\n",
      "input_K: torch.Size([1, 1, 128])\n",
      "input_V: torch.Size([1, 1, 128])\n",
      "cache_K: torch.Size([1, 11, 128])\n",
      "cache_V: torch.Size([1, 11, 128])\n",
      "next_token预测: tensor([0])\n",
      "\n",
      "Generation 2 step input_shape: torch.Size([1, 1])\n",
      "input_Q: torch.Size([1, 1, 128])\n",
      "input_K: torch.Size([1, 1, 128])\n",
      "input_V: torch.Size([1, 1, 128])\n",
      "cache_K: torch.Size([1, 12, 128])\n",
      "cache_V: torch.Size([1, 12, 128])\n",
      "next_token预测: tensor([40])\n"
     ]
    }
   ],
   "source": [
    "class DecoderWithKVCache(torch.nn.Module):\n",
    "    def __init__(self, D, V):\n",
    "        super().__init__()\n",
    "        self.D = D  # 单头注意力维度\n",
    "        self.V = V  # 词表大小\n",
    "        self.Embedding = torch.nn.Embedding(V, D)\n",
    "        self.Wq = torch.nn.Linear(D, D)  # Q矩阵\n",
    "        self.Wk = torch.nn.Linear(D, D)  # K矩阵\n",
    "        self.Wv = torch.nn.Linear(D, D)  # V矩阵\n",
    "        self.lm_head = torch.nn.Linear(D, V)  # 语言模型头\n",
    "        self.cache_K = self.cache_V = None  # KV缓存初始化\n",
    "\n",
    "    def forward(self, X):\n",
    "        X = self.Embedding(X)\n",
    "        Q, K, V = self.Wq(X), self.Wk(X), self.Wv(X)\n",
    "        print(f\"input_Q: {Q.shape}\")\n",
    "        print(f\"input_K: {K.shape}\")\n",
    "        print(f\"input_V: {V.shape}\")\n",
    "\n",
    "        # KV-Cache机制\n",
    "        if self.cache_K is None:  # 第一次生成\n",
    "            self.cache_K = K\n",
    "            self.cache_V = V\n",
    "        else:  # 后续生成\n",
    "            self.cache_K = torch.cat((self.cache_K, K), dim=1)  # 拼接新K值\n",
    "            self.cache_V = torch.cat((self.cache_V, V), dim=1)  # 拼接新V值\n",
    "            K, V = self.cache_K, self.cache_V  # 使用完整缓存\n",
    "\n",
    "        print(f\"cache_K: {self.cache_K.shape}\")\n",
    "        print(f\"cache_V: {self.cache_V.shape}\")\n",
    "\n",
    "        # 简化版注意力计算(实际应用中会有缩放、多头等处理)\n",
    "        attn = Q @ K.transpose(1, 2) @ V\n",
    "        return self.lm_head(attn)\n",
    "\n",
    "# 使用示例\n",
    "model = DecoderWithKVCache(D=128, V=64)\n",
    "# 创建数据、不使用tokenizer\n",
    "X = torch.randint(0, 64, (1, 10))  # 初始输入\n",
    "\n",
    "print(X.shape)\n",
    "\n",
    "for i in range(3):\n",
    "    print(f\"\\nGeneration {i} step input_shape: {X.shape}\")\n",
    "    output = model.forward(X)\n",
    "    next_token = torch.argmax(F.softmax(output, dim=-1), -1)[:, -1]\n",
    "    print(f'next_token预测: {next_token}')\n",
    "    # 注意这里 X 取每次新生成的 next token，而不是和之前的 input 拼接\n",
    "    X = next_token.unsqueeze(0)"
   ]
  },
  {
   "cell_type": "code",
   "execution_count": null,
   "id": "d0cc3ba5-050b-4266-946c-7c1c730d1165",
   "metadata": {},
   "outputs": [],
   "source": []
  }
 ],
 "metadata": {
  "kernelspec": {
   "display_name": "Python 3 (ipykernel)",
   "language": "python",
   "name": "python3"
  },
  "language_info": {
   "codemirror_mode": {
    "name": "ipython",
    "version": 3
   },
   "file_extension": ".py",
   "mimetype": "text/x-python",
   "name": "python",
   "nbconvert_exporter": "python",
   "pygments_lexer": "ipython3",
   "version": "3.10.12"
  }
 },
 "nbformat": 4,
 "nbformat_minor": 5
}
